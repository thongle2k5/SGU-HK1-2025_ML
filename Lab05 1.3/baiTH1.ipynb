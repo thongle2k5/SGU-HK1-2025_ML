{
 "cells": [
  {
   "cell_type": "markdown",
   "id": "78aeccb4",
   "metadata": {},
   "source": [
    "## 1. Giới thiệu SweetViz & tính năng chính\n",
    "\n",
    "SweetViz là thư viện Python mã nguồn mở, hỗ trợ tự động hóa giai đoạn Exploratory Data Analysis (EDA) và xuất báo cáo tương tác ở định dạng HTML. "
   ]
  },
  {
   "cell_type": "markdown",
   "id": "f10a509d",
   "metadata": {},
   "source": [
    "| Tính năng                                                 | Mô tả                                                                                                                                                                                         |\n",
    "| --------------------------------------------------------- | --------------------------------------------------------------------------------------------------------------------------------------------------------------------------------------------- |\n",
    "| **Phân tích đơn (analyze)**                               | Tạo báo cáo chi tiết cho một dataset duy nhất, bao gồm phân phối, missing values, thống kê mô tả, mối liên hệ giữa biến với biến khác. ([Medium][1])                                          |\n",
    "| **So sánh hai dataset (compare)**                         | So sánh hai DataFrame (ví dụ: train vs test) về phân phối, missing, mối tương quan. ([Analytics Vidhya][2])                                                                                   |\n",
    "| **So sánh nội bộ (compare_intra / intra-set comparison)** | So sánh các nhóm con (sub-groups) trong cùng dataset (ví dụ nhóm có target = 1 vs 0) để xem đặc điểm phân biệt. ([nb-data.com][3])                                                            |\n",
    "| **Xác định loại biến & override**                         | Tự động phát hiện biến số, biến phân loại, văn bản… và cho phép bạn ghi đè loại nếu cần. ([Analytics Vidhya][2])                                                                              |\n",
    "| **Hiển thị associations**                                 | Tạo ma trận hoặc biểu đồ “associations” để cho thấy mối liên kết giữa các biến (liên quan tới correlation, uncertainty coefficient, correlation ratio) tùy loại biến. ([Analytics Vidhya][2]) |\n",
    "| **Giao diện HTML tương tác**                              | Kết quả xuất ra file HTML có thể mở trong trình duyệt, tương tác (hover, drill-down). ([PyPI][4])                                                                                             |\n",
    "| **Tùy chỉnh giao diện**                                   | Trong phiên bản mới, có các tham số như `layout`, `scale`, `open_browser` để điều chỉnh hiển thị báo cáo. ([Analytics Vidhya][5])                                                             |\n",
    "| **Show trong notebook**                                   | Phiên bản mới hỗ trợ `show_notebook()` để hiển thị trực tiếp trong notebook (iframe) thay vì mở ngoài HTML. ([Analytics Vidhya][5])                                                           |\n",
    "\n",
    "[1]: https://medium.com/data-science/sweetviz-automated-eda-in-python-a97e4cabacde?utm_source=chatgpt.com \"Sweetviz: Automated EDA in Python | by Himanshu Sharma\"\n",
    "[2]: https://www.analyticsvidhya.com/blog/2021/05/sweetviz-library-eda-in-seconds/?utm_source=chatgpt.com \"SweetViz Library - EDA in Seconds - Analytics Vidhya\"\n",
    "[3]: https://www.nb-data.com/p/python-packages-for-automated-eda?utm_source=chatgpt.com \"Python Packages for Automated EDA You Should Use\"\n",
    "[4]: https://pypi.org/project/sweetviz/?utm_source=chatgpt.com \"Sweetviz - PyPI\"\n",
    "[5]: https://www.analyticsvidhya.com/blog/2021/01/making-exploratory-data-analysis-sweeter-with-sweetviz-2-0/?utm_source=chatgpt.com \"Making Exploratory Data Analysis Sweeter with Sweetviz 2.0\"\n"
   ]
  },
  {
   "cell_type": "markdown",
   "id": "29c1a38c",
   "metadata": {},
   "source": [
    "Nhược điểm / lưu ý:\n",
    "\n",
    "Báo cáo là HTML ngoài, không hiển thị inline đồ họa trong .py script mà không qua notebook (một số hạn chế môi trường). \n",
    "Analytics Vidhya\n",
    "+1\n",
    "\n",
    "Với dataset cực lớn hoặc nhiều biến, có thể tốn thời gian/memory.\n",
    "\n",
    "Nếu dữ liệu có biến phức tạp hoặc cần tùy chỉnh sâu, bạn vẫn cần làm EDA thủ công bổ sung."
   ]
  },
  {
   "cell_type": "markdown",
   "id": "7de33d32",
   "metadata": {},
   "source": [
    "## 2. Áp dụng SweetViz cho dataset Marketing Campaign\n",
    "\n",
    "Giả sử bạn có dataset **Marketing Campaign** chứa các biến như:\n",
    "\n",
    "- **Biến đặc điểm khách hàng**: tuổi, thu nhập, kênh tiếp cận, khu vực, giới tính, ...\n",
    "- **Biến kết quả (target)**: có phản hồi / mua / chuyển đổi (0/1)\n",
    "- **Các biến chiến dịch**: số lần gửi, chi phí, kênh, thời gian, ...\n",
    "\n",
    "### Có thể dùng SweetViz để:\n",
    "\n",
    "1. **Khám phá tổng thể dataset**\n",
    "   - Xem phân phối từng biến, missing, outlier, giá trị phổ biến  \n",
    "   - Xem mối liên hệ giữa các biến và target  \n",
    "   - Xem associations giữa các biến  \n",
    "\n",
    "2. **So sánh giữa hai nhóm**\n",
    "   - So sánh nhóm đã chuyển đổi (target = 1) và nhóm không chuyển đổi (target = 0) để xem đặc điểm nào khác biệt  \n",
    "   - Nếu có dataset test/holdout, so sánh train vs test  \n",
    "\n",
    "3. **Phát hiện điểm bất thường**\n",
    "   - Biến nào có missing cao  \n",
    "   - Phân phối lạ  \n",
    "   - Nhóm ít dữ liệu  \n"
   ]
  },
  {
   "cell_type": "markdown",
   "id": "36b4ea93",
   "metadata": {},
   "source": [
    "## 3. Code mẫu sử dụng SweetViz cho Marketing Campaign"
   ]
  },
  {
   "cell_type": "code",
   "execution_count": 11,
   "id": "7ab2267f",
   "metadata": {},
   "outputs": [
    {
     "name": "stderr",
     "output_type": "stream",
     "text": [
      "[Summarizing dataframe]                      |          | [  0%]   00:00 -> (? left)"
     ]
    },
    {
     "name": "stderr",
     "output_type": "stream",
     "text": [
      "Done! Use 'show' commands to display/save.   |██████████| [100%]   00:00 -> (00:00 left)\n"
     ]
    },
    {
     "name": "stdout",
     "output_type": "stream",
     "text": [
      "Report marketing_campaign_sweetviz_report.html was generated! NOTEBOOK/COLAB USERS: the web browser MAY not pop up, regardless, the report IS saved in your notebook/colab files.\n"
     ]
    }
   ],
   "source": [
    "import numpy as np\n",
    "import warnings\n",
    "\n",
    "# Tạo class Warning thay thế\n",
    "if not hasattr(np, \"VisibleDeprecationWarning\"):\n",
    "    class VisibleDeprecationWarning(UserWarning):\n",
    "        pass\n",
    "    np.VisibleDeprecationWarning = VisibleDeprecationWarning\n",
    "\n",
    "import pandas as pd\n",
    "import sweetviz as sv\n",
    "\n",
    "# Đọc dữ liệu\n",
    "df = pd.read_csv(\"marketing_campaign.csv\", sep=\"\\t\")\n",
    "\n",
    "# Tạo báo cáo với target = \"Response\"\n",
    "report = sv.analyze(df, target_feat=\"Response\")\n",
    "\n",
    "# Xuất HTML\n",
    "report.show_html(\"marketing_campaign_sweetviz_report.html\")\n"
   ]
  },
  {
   "cell_type": "markdown",
   "id": "0b2ad596",
   "metadata": {},
   "source": [
    "## 4. Tài liệu tham khảo"
   ]
  },
  {
   "cell_type": "markdown",
   "id": "0784de5f",
   "metadata": {},
   "source": [
    "[1] Aurélien Géron, Hands-On Machine Learning with Scikit-Learn, Keras, and TensorFlow, 2nd Edition, O’Reilly, 2019.\n",
    "[2] Trevor Hastie, Robert Tibshirani, Jerome Friedman, The Elements of Statistical Learning, Springer, 2009.\n",
    "[3] Documentation: https://scikit-learn.org\n",
    "\n",
    "[4] Documentation: https://pandas.pydata.org"
   ]
  }
 ],
 "metadata": {
  "kernelspec": {
   "display_name": "Python 3",
   "language": "python",
   "name": "python3"
  },
  "language_info": {
   "codemirror_mode": {
    "name": "ipython",
    "version": 3
   },
   "file_extension": ".py",
   "mimetype": "text/x-python",
   "name": "python",
   "nbconvert_exporter": "python",
   "pygments_lexer": "ipython3",
   "version": "3.11.9"
  }
 },
 "nbformat": 4,
 "nbformat_minor": 5
}
