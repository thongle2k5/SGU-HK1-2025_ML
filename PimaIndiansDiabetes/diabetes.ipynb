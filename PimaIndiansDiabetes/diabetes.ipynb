{
 "cells": [
  {
   "cell_type": "markdown",
   "id": "b109ad6e",
   "metadata": {},
   "source": [
    "# Bắt đầu"
   ]
  },
  {
   "cell_type": "markdown",
   "id": "f1cf304f",
   "metadata": {},
   "source": [
    "# 🧠 Xử lý dữ liệu bệnh Đái tháo đường"
   ]
  },
  {
   "cell_type": "markdown",
   "id": "ff8f8d3a",
   "metadata": {},
   "source": [
    "## 1️⃣ Định nghĩa vấn đề\n",
    "Mục tiêu của bài toán là **phân loại bệnh nhân có mắc bệnh đái tháo đường hay không** dựa trên các chỉ số sức khỏe (Glucose, Huyết áp, BMI, Tuổi, Insulin, v.v.).\n",
    "\n",
    "\n",
    "### 🧩 Input:\n",
    "- Bộ dữ liệu `diabetes.csv` gồm các cột đặc trưng:\n",
    "- `Pregnancies`: Số lần mang thai\n",
    "- `Glucose`: Nồng độ đường huyết\n",
    "- `BloodPressure`: Huyết áp (mm Hg)\n",
    "- `SkinThickness`: Độ dày da (mm)\n",
    "- `Insulin`: Lượng insulin trong huyết tương\n",
    "- `BMI`: Chỉ số khối cơ thể\n",
    "- `DiabetesPedigreeFunction`: Chỉ số di truyền liên quan đến bệnh đái tháo đường\n",
    "- `Age`: Tuổi của bệnh nhân\n",
    "- `Outcome`: Nhãn mục tiêu (1 = Có bệnh, 0 = Không bệnh)\n",
    "\n",
    "\n",
    "### 🎯 Output:\n",
    "- Dữ liệu đã được **làm sạch và chuẩn hóa**, bao gồm:\n",
    "- Các file CSV:\n",
    "- `X_train_scaled.csv` — đặc trưng tập huấn luyện đã chuẩn hóa\n",
    "- `X_test_scaled.csv` — đặc trưng tập kiểm tra đã chuẩn hóa\n",
    "- `y_train.csv` — nhãn huấn luyện\n",
    "- `y_test.csv` — nhãn kiểm tra\n",
    "\n",
    "\n"
   ]
  },
  {
   "cell_type": "code",
   "execution_count": 18,
   "id": "eb204068",
   "metadata": {},
   "outputs": [
    {
     "name": "stdout",
     "output_type": "stream",
     "text": [
      "📊 Kích thước dữ liệu: (768, 9)\n",
      "Outcome\n",
      "0    500\n",
      "1    268\n",
      "Name: count, dtype: int64\n"
     ]
    },
    {
     "data": {
      "image/png": "[encoded data removed]",
      "text/plain": [
       "<Figure size 500x400 with 1 Axes>"
      ]
     },
     "metadata": {},
     "output_type": "display_data"
    }
   ],
   "source": [
    "df = pd.read_csv('diabetes.csv')\n",
    "\n",
    "print(\"📊 Kích thước dữ liệu:\", df.shape)\n",
    "print(df['Outcome'].value_counts())\n",
    "\n",
    "plt.figure(figsize=(5,4))\n",
    "sns.countplot(x='Outcome', data=df)\n",
    "plt.title('Phân bố nhãn bệnh đái tháo đường (0 = Không, 1 = Có)')\n",
    "plt.show()\n"
   ]
  },
  {
   "cell_type": "markdown",
   "id": "42be9585",
   "metadata": {},
   "source": [
    "## 2️⃣ Chuẩn bị vấn đề"
   ]
  },
  {
   "cell_type": "markdown",
   "id": "8dec36ee",
   "metadata": {},
   "source": [
    "### 2.1 Khai báo thư viện (Load Libraries)"
   ]
  },
  {
   "cell_type": "code",
   "execution_count": 1,
   "id": "6d490862",
   "metadata": {},
   "outputs": [],
   "source": [
    "import pandas as pd\n",
    "import numpy as np\n",
    "import matplotlib.pyplot as plt\n",
    "import seaborn as sns\n",
    "from sklearn.model_selection import train_test_split\n",
    "from sklearn.preprocessing import StandardScaler"
   ]
  },
  {
   "cell_type": "markdown",
   "id": "8182466c",
   "metadata": {},
   "source": [
    "### 2.2 Tham số chương trình"
   ]
  },
  {
   "cell_type": "code",
   "execution_count": 2,
   "id": "a7eb4a5a",
   "metadata": {},
   "outputs": [],
   "source": [
    "TEST_SIZE = 0.2\n",
    "RANDOM_STATE = 42\n",
    "SCALER_TYPE = 'StandardScaler'"
   ]
  },
  {
   "cell_type": "markdown",
   "id": "0f098d78",
   "metadata": {},
   "source": [
    "### 2.3 Nạp dữ liệu( Load Dataset)"
   ]
  },
  {
   "cell_type": "code",
   "execution_count": 3,
   "id": "c8578151",
   "metadata": {},
   "outputs": [
    {
     "name": "stdout",
     "output_type": "stream",
     "text": [
      "\n",
      "✅ Dữ liệu gốc:\n",
      "   Pregnancies  Glucose  BloodPressure  SkinThickness  Insulin   BMI  \\\n",
      "0            6      148             72             35        0  33.6   \n",
      "1            1       85             66             29        0  26.6   \n",
      "2            8      183             64              0        0  23.3   \n",
      "3            1       89             66             23       94  28.1   \n",
      "4            0      137             40             35      168  43.1   \n",
      "\n",
      "   DiabetesPedigreeFunction  Age  Outcome  \n",
      "0                     0.627   50        1  \n",
      "1                     0.351   31        0  \n",
      "2                     0.672   32        1  \n",
      "3                     0.167   21        0  \n",
      "4                     2.288   33        1  \n"
     ]
    }
   ],
   "source": [
    "df = pd.read_csv('diabetes.csv')\n",
    "print(\"\\n✅ Dữ liệu gốc:\")\n",
    "print(df.head())"
   ]
  },
  {
   "cell_type": "markdown",
   "id": "28784fc1",
   "metadata": {},
   "source": [
    "### 2.4 Chia sẻ dữ liệu thực nghiệm"
   ]
  },
  {
   "cell_type": "code",
   "execution_count": 8,
   "id": "0229c890",
   "metadata": {},
   "outputs": [],
   "source": [
    "from sklearn.model_selection import train_test_split\n",
    "import numpy as np\n",
    "import os"
   ]
  },
  {
   "cell_type": "markdown",
   "id": "b0ff6d19",
   "metadata": {},
   "source": [
    "#### Gắn index cho dữ liệu"
   ]
  },
  {
   "cell_type": "code",
   "execution_count": 10,
   "id": "a3446100",
   "metadata": {},
   "outputs": [],
   "source": [
    "data = pd.read_csv(\"diabetes.csv\")\n",
    "data.reset_index(drop=True, inplace=True)\n",
    "data[\"Index\"] = data.index"
   ]
  },
  {
   "cell_type": "markdown",
   "id": "6e3a3fcd",
   "metadata": {},
   "source": [
    "#### Tách biến độc lập (X) và phụ thuộc (y)"
   ]
  },
  {
   "cell_type": "code",
   "execution_count": 11,
   "id": "5aac9749",
   "metadata": {},
   "outputs": [],
   "source": [
    "X = data.drop(\"Outcome\", axis=1)\n",
    "y = data[\"Outcome\"]"
   ]
  },
  {
   "cell_type": "markdown",
   "id": "4a239df9",
   "metadata": {},
   "source": [
    "#### Chia train/test (80/20)"
   ]
  },
  {
   "cell_type": "code",
   "execution_count": 14,
   "id": "196afad4",
   "metadata": {},
   "outputs": [
    {
     "name": "stdout",
     "output_type": "stream",
     "text": [
      "Số mẫu train: 614 mẫu\n",
      "Số mẫu test: 154 mẫu\n"
     ]
    }
   ],
   "source": [
    "X_train, X_test, y_train, y_test = train_test_split(\n",
    "    X, y, test_size=0.2, random_state=42, stratify=y)\n",
    "print(f\"Số mẫu train: {X_train.shape[0]} mẫu\")\n",
    "print(f\"Số mẫu test: {X_test.shape[0]} mẫu\")"
   ]
  },
  {
   "cell_type": "markdown",
   "id": "750ecfbb",
   "metadata": {},
   "source": [
    "#### Tạo thư mục lưu"
   ]
  },
  {
   "cell_type": "code",
   "execution_count": 15,
   "id": "79e79842",
   "metadata": {},
   "outputs": [],
   "source": [
    "os.makedirs(\"processed_data\", exist_ok=True)"
   ]
  },
  {
   "cell_type": "markdown",
   "id": "c0c107a6",
   "metadata": {},
   "source": [
    "#### Lưu dữ liệu CSV"
   ]
  },
  {
   "cell_type": "code",
   "execution_count": 16,
   "id": "0e32761a",
   "metadata": {},
   "outputs": [],
   "source": [
    "X_train.to_csv(\"processed_data/X_train.csv\", index=False)\n",
    "X_test.to_csv(\"processed_data/X_test.csv\", index=False)\n",
    "y_train.to_csv(\"processed_data/y_train.csv\", index=False)\n",
    "y_test.to_csv(\"processed_data/y_test.csv\", index=False)\n"
   ]
  },
  {
   "cell_type": "markdown",
   "id": "2adffce2",
   "metadata": {},
   "source": [
    "#### Lưu dạng nén npz"
   ]
  },
  {
   "cell_type": "code",
   "execution_count": 17,
   "id": "a6857684",
   "metadata": {},
   "outputs": [
    {
     "name": "stdout",
     "output_type": "stream",
     "text": [
      "\n",
      "✅ Đã lưu dữ liệu chia nhỏ vào thư mục 'processed_data/'\n"
     ]
    }
   ],
   "source": [
    "np.savez(\n",
    "    \"processed_data/diabetes_data.npz\",\n",
    "    X_train=X_train,\n",
    "    X_test=X_test,\n",
    "    y_train=y_train,\n",
    "    y_test=y_test\n",
    ")\n",
    "\n",
    "print(\"\\n✅ Đã lưu dữ liệu chia nhỏ vào thư mục 'processed_data/'\")"
   ]
  },
  {
   "cell_type": "markdown",
   "id": "1b12045d",
   "metadata": {},
   "source": [
    "#### Kiểm tra lại sau khi lưu"
   ]
  },
  {
   "cell_type": "code",
   "execution_count": 19,
   "id": "517dd0b0",
   "metadata": {},
   "outputs": [
    {
     "name": "stdout",
     "output_type": "stream",
     "text": [
      "\n",
      "📊 Kiểm tra lại dữ liệu sau khi load:\n",
      "X_train: (614, 9)\n",
      "X_test : (154, 9)\n",
      "y_train: (614,)\n",
      "y_test : (154,)\n"
     ]
    }
   ],
   "source": [
    "loaded = np.load(\"processed_data/diabetes_data.npz\")\n",
    "print(\"\\n📊 Kiểm tra lại dữ liệu sau khi load:\")\n",
    "print(\"X_train:\", loaded[\"X_train\"].shape)\n",
    "print(\"X_test :\", loaded[\"X_test\"].shape)\n",
    "print(\"y_train:\", loaded[\"y_train\"].shape)\n",
    "print(\"y_test :\", loaded[\"y_test\"].shape)"
   ]
  },
  {
   "cell_type": "markdown",
   "id": "ae386b45",
   "metadata": {},
   "source": [
    "## 4️⃣ Tiền xử lý dữ liệu"
   ]
  },
  {
   "cell_type": "markdown",
   "id": "cf0d1c48",
   "metadata": {},
   "source": [
    "### 4.1 Kiểm tra và làm sạch dữ liệu (Data Cleaning)"
   ]
  },
  {
   "cell_type": "code",
   "execution_count": 20,
   "id": "971deff8",
   "metadata": {},
   "outputs": [
    {
     "name": "stdout",
     "output_type": "stream",
     "text": [
      "<class 'pandas.core.frame.DataFrame'>\n",
      "RangeIndex: 768 entries, 0 to 767\n",
      "Data columns (total 9 columns):\n",
      " #   Column                    Non-Null Count  Dtype  \n",
      "---  ------                    --------------  -----  \n",
      " 0   Pregnancies               768 non-null    int64  \n",
      " 1   Glucose                   768 non-null    int64  \n",
      " 2   BloodPressure             768 non-null    int64  \n",
      " 3   SkinThickness             768 non-null    int64  \n",
      " 4   Insulin                   768 non-null    int64  \n",
      " 5   BMI                       768 non-null    float64\n",
      " 6   DiabetesPedigreeFunction  768 non-null    float64\n",
      " 7   Age                       768 non-null    int64  \n",
      " 8   Outcome                   768 non-null    int64  \n",
      "dtypes: float64(2), int64(7)\n",
      "memory usage: 54.1 KB\n",
      "Số dòng trùng lặp: 0\n"
     ]
    }
   ],
   "source": [
    "# Thông tin tổng quan\n",
    "df.info()\n",
    "\n",
    "# Kiểm tra dữ liệu trùng lặp\n",
    "duplicates = df.duplicated().sum()\n",
    "print(f\"Số dòng trùng lặp: {duplicates}\")\n",
    "\n",
    "# Xóa dữ liệu trùng\n",
    "if duplicates > 0:\n",
    "    df.drop_duplicates(inplace=True)\n",
    "    print(\"✅ Đã xóa dữ liệu trùng lặp\")\n"
   ]
  },
  {
   "cell_type": "markdown",
   "id": "bdf259c9",
   "metadata": {},
   "source": [
    "### 4.2 Kiểm tra giá trị thiếu hoặc 0 bất thường"
   ]
  },
  {
   "cell_type": "code",
   "execution_count": 21,
   "id": "2f886057",
   "metadata": {},
   "outputs": [
    {
     "name": "stdout",
     "output_type": "stream",
     "text": [
      "Số lượng giá trị bằng 0 trong các cột chính:\n",
      "Glucose            5\n",
      "BloodPressure     35\n",
      "SkinThickness    227\n",
      "Insulin          374\n",
      "BMI               11\n",
      "dtype: int64\n"
     ]
    }
   ],
   "source": [
    "cols_with_zero = ['Glucose', 'BloodPressure', 'SkinThickness', 'Insulin', 'BMI']\n",
    "print(\"Số lượng giá trị bằng 0 trong các cột chính:\")\n",
    "print(df[cols_with_zero].eq(0).sum())\n"
   ]
  },
  {
   "cell_type": "markdown",
   "id": "27f8c666",
   "metadata": {},
   "source": [
    "### 4.3 Xử lý giá trị rỗng hoặc không hợp lệ"
   ]
  },
  {
   "cell_type": "code",
   "execution_count": 23,
   "id": "3b30c605",
   "metadata": {},
   "outputs": [
    {
     "name": "stdout",
     "output_type": "stream",
     "text": [
      "Số lượng giá trị NaN sau khi thay thế:\n",
      "Pregnancies                 0\n",
      "Glucose                     0\n",
      "BloodPressure               0\n",
      "SkinThickness               0\n",
      "Insulin                     0\n",
      "BMI                         0\n",
      "DiabetesPedigreeFunction    0\n",
      "Age                         0\n",
      "Outcome                     0\n",
      "dtype: int64\n",
      "✅ Đã thay thế giá trị NaN bằng trung vị\n"
     ]
    }
   ],
   "source": [
    "# Thay 0 bằng NaN để dễ xử lý\n",
    "df[cols_with_zero] = df[cols_with_zero].replace(0, np.nan)\n",
    "\n",
    "# Kiểm tra số lượng NaN\n",
    "print(\"Số lượng giá trị NaN sau khi thay thế:\")\n",
    "print(df.isna().sum())\n",
    "\n",
    "# Điền giá trị trung vị (median) cho các cột có NaN\n",
    "for col in cols_with_zero:\n",
    "    median_val = df[col].median()\n",
    "    df[col] = df[col].fillna(median_val)\n",
    "\n",
    "print(\"✅ Đã thay thế giá trị NaN bằng trung vị\")\n"
   ]
  },
  {
   "cell_type": "markdown",
   "id": "d970fcae",
   "metadata": {},
   "source": [
    "### 4.4 Kiểm tra lại dữ liệu sau khi xử lý"
   ]
  },
  {
   "cell_type": "code",
   "execution_count": 24,
   "id": "cbbe2dee",
   "metadata": {},
   "outputs": [
    {
     "name": "stdout",
     "output_type": "stream",
     "text": [
      "       Pregnancies     Glucose  BloodPressure  SkinThickness     Insulin  \\\n",
      "count   768.000000  768.000000     768.000000     768.000000  768.000000   \n",
      "mean      3.845052  121.656250      72.386719      29.108073  140.671875   \n",
      "std       3.369578   30.438286      12.096642       8.791221   86.383060   \n",
      "min       0.000000   44.000000      24.000000       7.000000   14.000000   \n",
      "25%       1.000000   99.750000      64.000000      25.000000  121.500000   \n",
      "50%       3.000000  117.000000      72.000000      29.000000  125.000000   \n",
      "75%       6.000000  140.250000      80.000000      32.000000  127.250000   \n",
      "max      17.000000  199.000000     122.000000      99.000000  846.000000   \n",
      "\n",
      "              BMI  DiabetesPedigreeFunction         Age     Outcome  \n",
      "count  768.000000                768.000000  768.000000  768.000000  \n",
      "mean    32.455208                  0.471876   33.240885    0.348958  \n",
      "std      6.875177                  0.331329   11.760232    0.476951  \n",
      "min     18.200000                  0.078000   21.000000    0.000000  \n",
      "25%     27.500000                  0.243750   24.000000    0.000000  \n",
      "50%     32.300000                  0.372500   29.000000    0.000000  \n",
      "75%     36.600000                  0.626250   41.000000    1.000000  \n",
      "max     67.100000                  2.420000   81.000000    1.000000  \n"
     ]
    }
   ],
   "source": [
    "print(df.describe())\n"
   ]
  },
  {
   "cell_type": "markdown",
   "id": "9420c9de",
   "metadata": {},
   "source": [
    "### 4.5 Biến đổi dữ liệu (ví dụ: chuẩn hóa phân phối hoặc tạo đặc trưng mới)"
   ]
  },
  {
   "cell_type": "code",
   "execution_count": 25,
   "id": "364cc27e",
   "metadata": {},
   "outputs": [],
   "source": [
    "# Thêm cột mới: BMI phân loại (theo ngưỡng y học)\n",
    "df['BMI_Category'] = pd.cut(df['BMI'],\n",
    "                            bins=[0, 18.5, 24.9, 29.9, 100],\n",
    "                            labels=['Thiếu cân', 'Bình thường', 'Thừa cân', 'Béo phì'])\n",
    "\n",
    "# Biến đổi logarithm cho Insulin để giảm độ lệch (skewness)\n",
    "df['Log_Insulin'] = np.log1p(df['Insulin'])\n"
   ]
  },
  {
   "cell_type": "markdown",
   "id": "904753c1",
   "metadata": {},
   "source": [
    "### 4.6 Chuyển đổi dữ liệu (ví dụ: mã hóa nhãn nếu có biến phân loại)"
   ]
  },
  {
   "cell_type": "code",
   "execution_count": 26,
   "id": "82e4969a",
   "metadata": {},
   "outputs": [],
   "source": [
    "from sklearn.preprocessing import LabelEncoder\n",
    "\n",
    "le = LabelEncoder()\n",
    "if 'BMI_Category' in df.columns:\n",
    "    df['BMI_Category'] = le.fit_transform(df['BMI_Category'])\n"
   ]
  },
  {
   "cell_type": "markdown",
   "id": "c7f786e2",
   "metadata": {},
   "source": [
    "### 4.7 Chuẩn hóa dữ liệu (Data Normalize)\n",
    "\n",
    "Chuẩn hóa các tính chất để đưa về cùng một miền trị\n",
    "+ Min-Max Normalization\n",
    "$$\n",
    "z = \\frac{x - min(x)}{max(x) - min(x)}\n",
    "$$\n",
    "+ Standard Normalization\n",
    "$$\n",
    "z = \\frac{x - \\mu}{\\sigma}\n",
    "$$\n",
    "\n",
    "**Lưu ý**: Quá trình chuẩn hóa có thể làm trong phần thực nghiệm thuật toán"
   ]
  },
  {
   "cell_type": "code",
   "execution_count": 29,
   "id": "2fe8ec7a",
   "metadata": {},
   "outputs": [
    {
     "name": "stdout",
     "output_type": "stream",
     "text": [
      "✅ Đã chuẩn hóa dữ liệu bằng Min-Max (về khoảng [0, 1])\n",
      "   Pregnancies   Glucose  BloodPressure  SkinThickness   Insulin       BMI  \\\n",
      "0     0.352941  0.670968       0.489796       0.304348  0.133413  0.314928   \n",
      "1     0.058824  0.264516       0.428571       0.239130  0.133413  0.171779   \n",
      "2     0.470588  0.896774       0.408163       0.239130  0.133413  0.104294   \n",
      "3     0.058824  0.290323       0.428571       0.173913  0.096154  0.202454   \n",
      "4     0.000000  0.600000       0.163265       0.304348  0.185096  0.509202   \n",
      "\n",
      "   DiabetesPedigreeFunction       Age  BMI_Category  Log_Insulin  \n",
      "0                  0.234415  0.483333      0.000000     0.527619  \n",
      "1                  0.116567  0.166667      1.000000     0.527619  \n",
      "2                  0.253629  0.183333      0.333333     0.527619  \n",
      "3                  0.038002  0.000000      1.000000     0.457607  \n",
      "4                  0.943638  0.200000      0.000000     0.600411  \n"
     ]
    }
   ],
   "source": [
    "from sklearn.preprocessing import MinMaxScaler\n",
    "\n",
    "# Khởi tạo bộ chuẩn hóa Min-Max\n",
    "minmax_scaler = MinMaxScaler()\n",
    "\n",
    "# Chuẩn hóa tất cả các cột số (trừ cột nhãn)\n",
    "num_cols = df.select_dtypes(include=['int64', 'float64']).columns.drop('Outcome')\n",
    "\n",
    "# Tạo bản sao dữ liệu\n",
    "df_normalized = df.copy()\n",
    "df_normalized[num_cols] = minmax_scaler.fit_transform(df_normalized[num_cols])\n",
    "\n",
    "print(\"✅ Đã chuẩn hóa dữ liệu bằng Min-Max (về khoảng [0, 1])\")\n",
    "print(df_normalized[num_cols].head())\n"
   ]
  },
  {
   "cell_type": "code",
   "execution_count": 36,
   "id": "46588eb4",
   "metadata": {},
   "outputs": [
    {
     "data": {
      "image/png": "[encoded data removed]",
      "text/plain": [
       "<Figure size 1200x600 with 1 Axes>"
      ]
     },
     "metadata": {},
     "output_type": "display_data"
    }
   ],
   "source": [
    "import matplotlib.pyplot as plt\n",
    "import seaborn as sns\n",
    "\n",
    "# Danh sách cột được chuẩn hóa\n",
    "scale_columns = df_normalized.select_dtypes(include=['float64', 'int64']).columns.drop('Outcome')\n",
    "\n",
    "# Vẽ biểu đồ hộp (Boxplot)\n",
    "plt.figure(figsize=(12, 6))\n",
    "sns.boxplot(data=df_normalized[scale_columns])\n",
    "plt.title(\"Phân phối dữ liệu sau khi chuẩn hóa (Min-Max Normalization)\")\n",
    "plt.xticks(rotation=45)\n",
    "plt.grid(True, axis='y', linestyle='--', alpha=0.7)\n",
    "plt.tight_layout()\n",
    "plt.show()\n"
   ]
  },
  {
   "cell_type": "markdown",
   "id": "a360bb68",
   "metadata": {},
   "source": [
    "### 4.8 Chuyển đổi dữ liệu danh mục (Categorical Data) thành dạng One-Hot Encoding\n",
    "Một số thuật toán khi chuyển đổi cột dạng danh mục thành kiểu OneHot thì cho hiệu suất cao hơn.\n",
    "\n",
    "Bên cạnh đó, khi huấn luyện mô hình với dạng hàm mất mát CategoryEntropy thì cũng cần chuyển thuộc tính phân lớp sang dạng OneHot."
   ]
  },
  {
   "cell_type": "code",
   "execution_count": 51,
   "id": "06869e7b",
   "metadata": {},
   "outputs": [
    {
     "name": "stdout",
     "output_type": "stream",
     "text": [
      "Các cột danh mục cần mã hóa: []\n"
     ]
    }
   ],
   "source": [
    "import pandas as pd\n",
    "from IPython import display\n",
    "\n",
    "# Giả sử df_normalized là dữ liệu sau khi chuẩn hóa\n",
    "df_dataset = df_normalized.copy()\n",
    "\n",
    "# 🔹 Lấy các cột kiểu object hoặc category\n",
    "cat_cols = df_dataset.select_dtypes(include=['object', 'category']).columns\n",
    "print(\"Các cột danh mục cần mã hóa:\", list(cat_cols))\n",
    "\n",
    "for col in cat_cols:\n",
    "    print(f\"\\n👉 One-Hot Encoding cho cột: {col}\")\n",
    "    \n",
    "    # Lấy danh sách nhãn (class names)\n",
    "    class_names = df_dataset[col].unique()\n",
    "    print(\"class_names:\", class_names)\n",
    "    \n",
    "    # Tạo bảng one-hot\n",
    "    df_onehot = pd.get_dummies(df_dataset[col])\n",
    "    df_onehot = pd.DataFrame(df_onehot.values, columns=[f\"{col}_{c}\" for c in class_names])\n",
    "    \n",
    "    # Hiển thị bảng mã hóa\n",
    "    display.display(df_onehot.head())\n"
   ]
  },
  {
   "cell_type": "markdown",
   "id": "f58fcb6b",
   "metadata": {},
   "source": [
    "### 4.9 Lưu dữ liệu đã xử lý"
   ]
  },
  {
   "cell_type": "code",
   "execution_count": null,
   "id": "c0766f3d",
   "metadata": {},
   "outputs": [
    {
     "name": "stdout",
     "output_type": "stream",
     "text": [
      "💾 Dữ liệu đã lưu vào: processed_data/diabetes_processed.csv\n"
     ]
    }
   ],
   "source": [
    "import os\n",
    "os.makedirs(\"processed_data\", exist_ok=True)\n",
    "\n",
    "df_scaled.to_csv(\"processed_data/diabetes_processed.csv\", index=False)\n",
    "print(\"💾 Dữ liệu đã lưu vào: processed_data/diabetes_processed.csv\")\n"
   ]
  },
  {
   "cell_type": "markdown",
   "id": "2088d0e1",
   "metadata": {},
   "source": [
    "## 5️⃣ Lưu dữ liệu Features (Input/Output)\n",
    "Là bước cuối cùng của giai đoạn tiền xử lý trước khi đưa dữ liệu vào mô hình học máy."
   ]
  },
  {
   "cell_type": "code",
   "execution_count": 52,
   "id": "4f7d0732",
   "metadata": {},
   "outputs": [
    {
     "name": "stdout",
     "output_type": "stream",
     "text": [
      "✅ Kích thước dữ liệu đầu vào (X_data): (768, 10)\n",
      "✅ Kích thước dữ liệu đầu ra (y_data): (768,)\n",
      "\n",
      "🔹 Dữ liệu đầu vào (X_data) mẫu:\n",
      "[[6.00000000e+00 1.48000000e+02 7.20000000e+01 3.50000000e+01\n",
      "  1.25000000e+02 3.36000000e+01 6.27000000e-01 5.00000000e+01\n",
      "  0.00000000e+00 4.83628191e+00]\n",
      " [1.00000000e+00 8.50000000e+01 6.60000000e+01 2.90000000e+01\n",
      "  1.25000000e+02 2.66000000e+01 3.51000000e-01 3.10000000e+01\n",
      "  3.00000000e+00 4.83628191e+00]\n",
      " [8.00000000e+00 1.83000000e+02 6.40000000e+01 2.90000000e+01\n",
      "  1.25000000e+02 2.33000000e+01 6.72000000e-01 3.20000000e+01\n",
      "  1.00000000e+00 4.83628191e+00]\n",
      " [1.00000000e+00 8.90000000e+01 6.60000000e+01 2.30000000e+01\n",
      "  9.40000000e+01 2.81000000e+01 1.67000000e-01 2.10000000e+01\n",
      "  3.00000000e+00 4.55387689e+00]\n",
      " [0.00000000e+00 1.37000000e+02 4.00000000e+01 3.50000000e+01\n",
      "  1.68000000e+02 4.31000000e+01 2.28800000e+00 3.30000000e+01\n",
      "  0.00000000e+00 5.12989871e+00]]\n",
      "\n",
      "🔹 Dữ liệu đầu ra (y_data) mẫu:\n",
      "[1 0 1 0 1]\n",
      "\n",
      "📁 Đã lưu thành công:\n",
      "- X_data.npy  (Input features)\n",
      "- y_data.npy  (Output labels)\n"
     ]
    }
   ],
   "source": [
    "import numpy as np\n",
    "\n",
    "# 🧩 Xác định dữ liệu đầu vào (X) và đầu ra (y)\n",
    "# Giả sử cột đầu ra là 'Outcome'\n",
    "X_data = df.drop(columns=['Outcome']).values\n",
    "y_data = df['Outcome'].values\n",
    "\n",
    "print(\"✅ Kích thước dữ liệu đầu vào (X_data):\", X_data.shape)\n",
    "print(\"✅ Kích thước dữ liệu đầu ra (y_data):\", y_data.shape)\n",
    "\n",
    "# 🧠 Hiển thị 5 dòng đầu để kiểm tra\n",
    "print(\"\\n🔹 Dữ liệu đầu vào (X_data) mẫu:\")\n",
    "print(X_data[:5])\n",
    "print(\"\\n🔹 Dữ liệu đầu ra (y_data) mẫu:\")\n",
    "print(y_data[:5])\n",
    "\n",
    "# 💾 Lưu dữ liệu sang file .npy (dạng NumPy)\n",
    "np.save(\"X_data.npy\", X_data)\n",
    "np.save(\"y_data.npy\", y_data)\n",
    "\n",
    "print(\"\\n📁 Đã lưu thành công:\")\n",
    "print(\"- X_data.npy  (Input features)\")\n",
    "print(\"- y_data.npy  (Output labels)\")\n"
   ]
  },
  {
   "cell_type": "markdown",
   "id": "990b0374",
   "metadata": {},
   "source": [
    "# Kết thúc"
   ]
  }
 ],
 "metadata": {
  "kernelspec": {
   "display_name": "Python 3",
   "language": "python",
   "name": "python3"
  },
  "language_info": {
   "codemirror_mode": {
    "name": "ipython",
    "version": 3
   },
   "file_extension": ".py",
   "mimetype": "text/x-python",
   "name": "python",
   "nbconvert_exporter": "python",
   "pygments_lexer": "ipython3",
   "version": "3.13.7"
  }
 },
 "nbformat": 4,
 "nbformat_minor": 5
}
