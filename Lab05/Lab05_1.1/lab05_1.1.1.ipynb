{
 "cells": [
  {
   "cell_type": "markdown",
   "id": "cb8beceb",
   "metadata": {},
   "source": [
    "# Lab01 - Phân tích khám phá dữ liệu (Exploratory Data Analysis)"
   ]
  },
  {
   "cell_type": "markdown",
   "id": "4a629d5c",
   "metadata": {},
   "source": [
    "Trong notebook này, tôi thực hiện **thống kê mô tả** trên bộ dữ liệu rượu vang đỏ (Wine Quality Dataset).\n",
    "Các bước bao gồm:\n",
    "- Kiểm tra dữ liệu: missing values, duplicates\n",
    "- Tính các chỉ số thống kê mô tả: mean, median, mode, std, variance, range, IQR\n",
    "- Trực quan hóa: Histogram, Boxplot\n",
    "- Thống kê mô tả nâng cao: Skewness, Kurtosis\n",
    "- Phân tích tương quan giữa các biến\n",
    "- Đưa ra kết luận"
   ]
  },
  {
   "cell_type": "markdown",
   "id": "66c3dc19",
   "metadata": {},
   "source": [
    "## import và đọc dữ liệu"
   ]
  },
  {
   "cell_type": "code",
   "execution_count": 37,
   "id": "c673e371",
   "metadata": {},
   "outputs": [
    {
     "name": "stdout",
     "output_type": "stream",
     "text": [
      "   fixed acidity  volatile acidity  citric acid  residual sugar  chlorides  \\\n",
      "0            7.4              0.70         0.00             1.9      0.076   \n",
      "1            7.8              0.88         0.00             2.6      0.098   \n",
      "2            7.8              0.76         0.04             2.3      0.092   \n",
      "3           11.2              0.28         0.56             1.9      0.075   \n",
      "4            7.4              0.70         0.00             1.9      0.076   \n",
      "\n",
      "   free sulfur dioxide  total sulfur dioxide  density    pH  sulphates  \\\n",
      "0                 11.0                  34.0   0.9978  3.51       0.56   \n",
      "1                 25.0                  67.0   0.9968  3.20       0.68   \n",
      "2                 15.0                  54.0   0.9970  3.26       0.65   \n",
      "3                 17.0                  60.0   0.9980  3.16       0.58   \n",
      "4                 11.0                  34.0   0.9978  3.51       0.56   \n",
      "\n",
      "   alcohol  quality  \n",
      "0      9.4        5  \n",
      "1      9.8        5  \n",
      "2      9.8        5  \n",
      "3      9.8        6  \n",
      "4      9.4        5  \n",
      "Index(['fixed acidity', 'volatile acidity', 'citric acid', 'residual sugar',\n",
      "       'chlorides', 'free sulfur dioxide', 'total sulfur dioxide', 'density',\n",
      "       'pH', 'sulphates', 'alcohol', 'quality'],\n",
      "      dtype='object')\n"
     ]
    }
   ],
   "source": [
    "import pandas as pd\n",
    "\n",
    "wine = pd.read_csv(\"winequality-red.csv\", sep=\",\")\n",
    "print(wine.head())\n",
    "print(wine.columns)\n"
   ]
  },
  {
   "cell_type": "code",
   "execution_count": 38,
   "id": "2204d6ed",
   "metadata": {},
   "outputs": [
    {
     "name": "stdout",
     "output_type": "stream",
     "text": [
      "<class 'pandas.core.frame.DataFrame'>\n",
      "RangeIndex: 1599 entries, 0 to 1598\n",
      "Data columns (total 12 columns):\n",
      " #   Column                Non-Null Count  Dtype  \n",
      "---  ------                --------------  -----  \n",
      " 0   fixed acidity         1599 non-null   float64\n",
      " 1   volatile acidity      1599 non-null   float64\n",
      " 2   citric acid           1599 non-null   float64\n",
      " 3   residual sugar        1599 non-null   float64\n",
      " 4   chlorides             1599 non-null   float64\n",
      " 5   free sulfur dioxide   1599 non-null   float64\n",
      " 6   total sulfur dioxide  1599 non-null   float64\n",
      " 7   density               1599 non-null   float64\n",
      " 8   pH                    1599 non-null   float64\n",
      " 9   sulphates             1599 non-null   float64\n",
      " 10  alcohol               1599 non-null   float64\n",
      " 11  quality               1599 non-null   int64  \n",
      "dtypes: float64(11), int64(1)\n",
      "memory usage: 150.0 KB\n",
      "None\n"
     ]
    }
   ],
   "source": [
    "print(wine.info())"
   ]
  },
  {
   "cell_type": "markdown",
   "id": "3df680be",
   "metadata": {},
   "source": [
    "## Kiểm tra thông tin dữ liệu\n",
    "\n",
    "- Tất cả các cột đều thuộc kiểu **số thực (float64)**, riêng `quality` là **số nguyên (int64)**.  \n",
    "- Số dòng = 1599, số cột = 12.  \n",
    "- Không có giá trị null (missing values).  \n",
    "- Như vậy dữ liệu sạch, có thể tiến hành thống kê mô tả mà không cần xử lý thiếu dữ liệu."
   ]
  },
  {
   "cell_type": "markdown",
   "id": "835c71e5",
   "metadata": {},
   "source": [
    "## Thống kê mô tả cơ bản\n",
    "\n",
    "- Bảng thống kê cung cấp các chỉ số quan trọng:\n",
    "  - **mean**: giá trị trung bình của từng biến.  \n",
    "  - **std**: độ lệch chuẩn, cho thấy mức độ phân tán quanh trung bình.  \n",
    "  - **min, max**: giá trị nhỏ nhất và lớn nhất.  \n",
    "  - **25%, 50%, 75%**: các phân vị (quartiles), trong đó **50% = median**.  \n",
    "\n",
    "- Quan sát một số điểm đáng chú ý:\n",
    "  - `alcohol` có mean ≈ 10.43 và median ≈ 10.20 → dữ liệu hơi lệch phải.  \n",
    "  - `residual sugar` có min rất thấp nhưng max khá cao → dễ có outliers.  \n",
    "  - `quality` dao động từ 3 đến 8, trung bình ≈ 5.64 → phần lớn rượu có chất lượng trung bình.  \n"
   ]
  },
  {
   "cell_type": "code",
   "execution_count": 57,
   "id": "3a9ba1b4",
   "metadata": {},
   "outputs": [
    {
     "name": "stdout",
     "output_type": "stream",
     "text": [
      "       fixed acidity  volatile acidity  citric acid  residual sugar  \\\n",
      "count    1359.000000       1359.000000  1359.000000     1359.000000   \n",
      "mean        8.310596          0.529478     0.272333        2.523400   \n",
      "std         1.736990          0.183031     0.195537        1.352314   \n",
      "min         4.600000          0.120000     0.000000        0.900000   \n",
      "25%         7.100000          0.390000     0.090000        1.900000   \n",
      "50%         7.900000          0.520000     0.260000        2.200000   \n",
      "75%         9.200000          0.640000     0.430000        2.600000   \n",
      "max        15.900000          1.580000     1.000000       15.500000   \n",
      "\n",
      "         chlorides  free sulfur dioxide  total sulfur dioxide      density  \\\n",
      "count  1359.000000          1359.000000           1359.000000  1359.000000   \n",
      "mean      0.088124            15.893304             46.825975     0.996709   \n",
      "std       0.049377            10.447270             33.408946     0.001869   \n",
      "min       0.012000             1.000000              6.000000     0.990070   \n",
      "25%       0.070000             7.000000             22.000000     0.995600   \n",
      "50%       0.079000            14.000000             38.000000     0.996700   \n",
      "75%       0.091000            21.000000             63.000000     0.997820   \n",
      "max       0.611000            72.000000            289.000000     1.003690   \n",
      "\n",
      "                pH    sulphates      alcohol      quality  \n",
      "count  1359.000000  1359.000000  1359.000000  1359.000000  \n",
      "mean      3.309787     0.658705    10.432315     5.623252  \n",
      "std       0.155036     0.170667     1.082065     0.823578  \n",
      "min       2.740000     0.330000     8.400000     3.000000  \n",
      "25%       3.210000     0.550000     9.500000     5.000000  \n",
      "50%       3.310000     0.620000    10.200000     6.000000  \n",
      "75%       3.400000     0.730000    11.100000     6.000000  \n",
      "max       4.010000     2.000000    14.900000     8.000000  \n"
     ]
    }
   ],
   "source": [
    "print(wine.describe())\n"
   ]
  },
  {
   "cell_type": "markdown",
   "id": "1f9eaefe",
   "metadata": {},
   "source": [
    "## Trực quan hóa dữ liệu\n",
    "\n",
    "- **Histogram (alcohol):**\n",
    "  - Phân bố không đối xứng hoàn toàn, hơi lệch phải (skewed right).  \n",
    "  - Phần lớn mẫu rượu tập trung quanh mức 9–11% alcohol.  \n",
    "  - Một số ít mẫu có độ cồn cao hơn kéo phân bố lệch sang phải.  \n",
    "\n",
    "- **Boxplot (residual sugar):**\n",
    "  - Có nhiều điểm nằm ngoài râu hộp → xuất hiện outliers.  \n",
    "  - Phần lớn mẫu rượu vang đỏ có lượng đường dư thấp, nhưng một vài mẫu có lượng đường cao bất thường.  \n"
   ]
  },
  {
   "cell_type": "code",
   "execution_count": 59,
   "id": "2a50fe5f",
   "metadata": {},
   "outputs": [
    {
     "data": {
      "image/png": "[encoded data removed]",
      "text/plain": [
       "<Figure size 640x480 with 1 Axes>"
      ]
     },
     "metadata": {},
     "output_type": "display_data"
    }
   ],
   "source": [
    "import matplotlib.pyplot as plt\n",
    "\n",
    "# Histogram alcohol\n",
    "wine[\"alcohol\"].hist(bins=20, edgecolor=\"black\")\n",
    "plt.title(\"Histogram of Alcohol\")\n",
    "plt.xlabel(\"Alcohol (%)\")\n",
    "plt.ylabel(\"Frequency\")\n",
    "plt.show()"
   ]
  },
  {
   "cell_type": "code",
   "execution_count": 60,
   "id": "ee7cb20a",
   "metadata": {},
   "outputs": [
    {
     "data": {
      "image/png": "[encoded data removed]",
      "text/plain": [
       "<Figure size 640x480 with 1 Axes>"
      ]
     },
     "metadata": {},
     "output_type": "display_data"
    }
   ],
   "source": [
    "# Boxplot residual sugar\n",
    "wine.boxplot(column=\"residual sugar\")\n",
    "plt.title(\"Boxplot of Residual Sugar\")\n",
    "plt.ylabel(\"g/L\")\n",
    "plt.show()\n"
   ]
  },
  {
   "cell_type": "markdown",
   "id": "29fac461",
   "metadata": {},
   "source": [
    "## Nhận xét về Skewness với kurtosis\n",
    "\n",
    "- **Skewness (độ lệch):**\n",
    "  - `alcohol` có skewness ≈ 0.86 → phân bố lệch phải nhẹ.  \n",
    "  - Một số biến khác như `volatile acidity` lệch trái (skewness âm).  \n",
    "\n",
    "- **Kurtosis (độ nhọn):**\n",
    "  - `residual sugar` có kurtosis rất lớn (≈ 29) → phân bố nhọn, nhiều outliers.  \n",
    "  - Các biến khác có kurtosis gần 0 → phân bố gần chuẩn hơn.  \n"
   ]
  },
  {
   "cell_type": "code",
   "execution_count": 64,
   "id": "aa894ff9",
   "metadata": {},
   "outputs": [
    {
     "name": "stdout",
     "output_type": "stream",
     "text": [
      "Skewness:\n",
      " fixed acidity           0.941041\n",
      "volatile acidity        0.729279\n",
      "citric acid             0.312726\n",
      "residual sugar          4.548153\n",
      "chlorides               5.502487\n",
      "free sulfur dioxide     1.226579\n",
      "total sulfur dioxide    1.540368\n",
      "density                 0.044778\n",
      "pH                      0.232032\n",
      "sulphates               2.406505\n",
      "alcohol                 0.859841\n",
      "quality                 0.192407\n",
      "dtype: float64\n",
      "\n",
      "Kurtosis:\n",
      " fixed acidity            1.049673\n",
      "volatile acidity         1.249243\n",
      "citric acid             -0.788921\n",
      "residual sugar          29.364592\n",
      "chlorides               38.624653\n",
      "free sulfur dioxide      1.892691\n",
      "total sulfur dioxide     4.042257\n",
      "density                  0.830659\n",
      "pH                       0.879790\n",
      "sulphates               11.102282\n",
      "alcohol                  0.159739\n",
      "quality                  0.340256\n",
      "dtype: float64\n"
     ]
    }
   ],
   "source": [
    "# Skewness và Kurtosis cho các cột số\n",
    "print(\"Skewness:\\n\", wine.skew(numeric_only=True))\n",
    "print(\"\\nKurtosis:\\n\", wine.kurt(numeric_only=True))\n"
   ]
  },
  {
   "cell_type": "markdown",
   "id": "f0e32d7e",
   "metadata": {},
   "source": [
    "## Thống kê Range – IQR – Mode\n",
    "\n",
    "- **Alcohol:**\n",
    "  - Range ≈ 6.5 → độ cồn trải rộng từ khoảng 8% đến 14.5%.  \n",
    "  - IQR ≈ 1.6 → 50% rượu điển hình chỉ khác nhau 1.6% nồng độ cồn, chứng tỏ phần lớn dữ liệu tập trung.  \n",
    "  - Mode = 9.5 → giá trị độ cồn phổ biến nhất trong tập dữ liệu.  \n",
    "\n",
    "- **Residual sugar:**\n",
    "  - Range lớn → có sự khác biệt rất lớn giữa mẫu ít đường và nhiều đường.  \n",
    "  - IQR nhỏ → đa số rượu vang đỏ có đường dư thấp.  \n",
    "  - Có nhiều outliers ở phía giá trị cao, khớp với quan sát từ boxplot.  \n"
   ]
  },
  {
   "cell_type": "code",
   "execution_count": 65,
   "id": "57974c99",
   "metadata": {},
   "outputs": [
    {
     "name": "stdout",
     "output_type": "stream",
     "text": [
      "Range (alcohol): 6.5\n"
     ]
    }
   ],
   "source": [
    "range_alcohol = wine[\"alcohol\"].max() - wine[\"alcohol\"].min()\n",
    "print(\"Range (alcohol):\", range_alcohol)\n"
   ]
  },
  {
   "cell_type": "code",
   "execution_count": 66,
   "id": "08987175",
   "metadata": {},
   "outputs": [
    {
     "name": "stdout",
     "output_type": "stream",
     "text": [
      "IQR (alcohol): 1.5999999999999996\n"
     ]
    }
   ],
   "source": [
    "Q1 = wine[\"alcohol\"].quantile(0.25)\n",
    "Q3 = wine[\"alcohol\"].quantile(0.75)\n",
    "IQR = Q3 - Q1\n",
    "print(\"IQR (alcohol):\", IQR)\n"
   ]
  },
  {
   "cell_type": "code",
   "execution_count": 67,
   "id": "93c135d1",
   "metadata": {},
   "outputs": [
    {
     "name": "stdout",
     "output_type": "stream",
     "text": [
      "Mode (alcohol): 9.5\n"
     ]
    }
   ],
   "source": [
    "mode_alcohol = wine[\"alcohol\"].mode()[0]\n",
    "print(\"Mode (alcohol):\", mode_alcohol)\n"
   ]
  },
  {
   "cell_type": "markdown",
   "id": "260bb5b1",
   "metadata": {},
   "source": [
    "## Kết luận\n",
    "\n",
    "- Bộ dữ liệu rượu vang đỏ gồm 1599 mẫu, đầy đủ, không có missing values và không có trùng lặp.  \n",
    "- Các thước đo thống kê mô tả cho thấy:\n",
    "  - Alcohol có phân bố lệch phải nhẹ (skewness > 0), trung bình ~10.4%. Đây là biến có ảnh hưởng rõ đến chất lượng rượu.  \n",
    "  - Residual sugar có nhiều outliers và kurtosis cao, tuy nhiên không ảnh hưởng đáng kể đến quality.  \n",
    "  - Quality chủ yếu nằm trong khoảng 5–6, ít mẫu rượu chất lượng cao (7–8).  \n",
    "- Biểu đồ histogram và boxplot minh họa trực quan phân bố và sự xuất hiện outliers.  \n",
    "- Các chỉ số nâng cao (skewness, kurtosis) giúp bổ sung thông tin về dạng phân bố và phát hiện giá trị bất thường.  \n",
    "\n",
    "\n"
   ]
  }
 ],
 "metadata": {
  "kernelspec": {
   "display_name": "Python 3",
   "language": "python",
   "name": "python3"
  },
  "language_info": {
   "codemirror_mode": {
    "name": "ipython",
    "version": 3
   },
   "file_extension": ".py",
   "mimetype": "text/x-python",
   "name": "python",
   "nbconvert_exporter": "python",
   "pygments_lexer": "ipython3",
   "version": "3.13.7"
  }
 },
 "nbformat": 4,
 "nbformat_minor": 5
}
